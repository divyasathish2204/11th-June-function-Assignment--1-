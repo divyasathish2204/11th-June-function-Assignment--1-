{
 "cells": [
  {
   "cell_type": "code",
   "execution_count": 1,
   "id": "5595db27",
   "metadata": {},
   "outputs": [
    {
     "data": {
      "text/plain": [
       "<function __main__.<lambda>(arguments)>"
      ]
     },
     "execution_count": 1,
     "metadata": {},
     "output_type": "execute_result"
    }
   ],
   "source": [
    "#question 1\n",
    "\"\"\"A lambda function is a small anonymous function.\n",
    "   A lambda function can take any number of arguments, but can only have one expression.\"\"\"\n",
    "#syntax:\n",
    "lambda arguments : expression\n",
    "# lambda functions are small and it is in one line only.where other functions are multiline    \n",
    "# so it is called anonymous function"
   ]
  },
  {
   "cell_type": "code",
   "execution_count": 2,
   "id": "711a41f2",
   "metadata": {},
   "outputs": [
    {
     "name": "stdout",
     "output_type": "stream",
     "text": [
      "504\n"
     ]
    }
   ],
   "source": [
    "# question 2\n",
    "#Lambda functions can take any number of arguments:\n",
    "x = lambda a,b,c : a*b*c   #a,b and c are multiple arguments.  \n",
    "print(x(9,7,8))"
   ]
  },
  {
   "cell_type": "code",
   "execution_count": 16,
   "id": "166773d7",
   "metadata": {},
   "outputs": [
    {
     "data": {
      "text/plain": [
       "8"
      ]
     },
     "execution_count": 16,
     "metadata": {},
     "output_type": "execute_result"
    }
   ],
   "source": [
    "#question 3\n",
    "#lambda functions are used as a anonymous function/small whisch are used in another function.\n",
    "def myfunc(n):\n",
    "    return lambda a : a * n\n",
    "lambda_func=myfunc(2)       # n is a parameter in myfunc().a is unknown variable which can be used in function\n",
    "lambda_func(4)\n"
   ]
  },
  {
   "cell_type": "code",
   "execution_count": 19,
   "id": "18531ce8",
   "metadata": {},
   "outputs": [
    {
     "name": "stdout",
     "output_type": "stream",
     "text": [
      "[5, 9, 11]\n"
     ]
    }
   ],
   "source": [
    "#question 4\n",
    "\"\"\"Lambda expressions are a special syntax in Python for creating anonymous functions. \n",
    "We call the lambda syntax itself a lambda expression, and the function it returns is called a lambda function or anonymous functions. \n",
    "Python’s lambda expressions allow a function to be created and passed in one line of code, let us look at below source code\"\"\"\n",
    "\n",
    "name = ['divya','ramyaravi','sudhasreeja']\n",
    "namelength = map(lambda string : len(string),name)\n",
    "print(list(namelength))"
   ]
  },
  {
   "cell_type": "code",
   "execution_count": null,
   "id": "ad7acf32",
   "metadata": {},
   "outputs": [],
   "source": [
    "#Lambda Disadvantages.\n",
    "#1.Lambda expressions are a strange and unfamiliar syntax.\n",
    "#2.Lambda functions themselves lack names and documentation, meaning that the only way to know what they do is to read the code.\n",
    "#3.Lambda expressions can only contain one statement, so some readable language features, such as tuple unpacking, cannot be used with them.\n",
    "#4.Lambda functions can often be replaced with existing functions in the standard library or Python built-in functions.\n",
    "#Lambda Advantages.\n",
    "#1.The code is simple and clear.\n",
    "#2.No additional variables are added."
   ]
  },
  {
   "cell_type": "code",
   "execution_count": 11,
   "id": "38d7676f",
   "metadata": {},
   "outputs": [
    {
     "name": "stdout",
     "output_type": "stream",
     "text": [
      "55\n"
     ]
    }
   ],
   "source": [
    "# question 5\n",
    "# lambda variables have thier scope outside of the function as shown below.\n",
    "def myfunc(n):\n",
    "    return lambda a : a * n\n",
    "\n",
    "mynum = myfunc(5)\n",
    "\n",
    "print(mynum(11))      #a is a variable of lambda where it is used outside of a function"
   ]
  },
  {
   "cell_type": "code",
   "execution_count": 10,
   "id": "7686b433",
   "metadata": {},
   "outputs": [
    {
     "data": {
      "text/plain": [
       "2.449489742783178"
      ]
     },
     "execution_count": 10,
     "metadata": {},
     "output_type": "execute_result"
    }
   ],
   "source": [
    "# question 6\n",
    "import math\n",
    "sqrt_num = lambda x : math.sqrt(x)\n",
    "sqrt_num(6)"
   ]
  },
  {
   "cell_type": "code",
   "execution_count": 9,
   "id": "cf1cd508",
   "metadata": {},
   "outputs": [
    {
     "data": {
      "text/plain": [
       "45"
      ]
     },
     "execution_count": 9,
     "metadata": {},
     "output_type": "execute_result"
    }
   ],
   "source": [
    "# question 7\n",
    "l = [23,45,5,9]\n",
    "max_num = lambda l : max(l)\n",
    "max_num(l)"
   ]
  },
  {
   "cell_type": "code",
   "execution_count": 8,
   "id": "666969fa",
   "metadata": {},
   "outputs": [
    {
     "data": {
      "text/plain": [
       "[12, 4, 6, 10, 8, 72]"
      ]
     },
     "execution_count": 8,
     "metadata": {},
     "output_type": "execute_result"
    }
   ],
   "source": [
    "# question 8\n",
    "l = [12,4,6,5,10,8,9,3,45,72]\n",
    "even_num = lambda l : [i for i in l if i%2 == 0]\n",
    "even_num(l)"
   ]
  },
  {
   "cell_type": "code",
   "execution_count": 7,
   "id": "0315fb0f",
   "metadata": {},
   "outputs": [
    {
     "data": {
      "text/plain": [
       "['sudha', 'rajesh', 'jahnavi', 'radharavi', 'divyasathish']"
      ]
     },
     "execution_count": 7,
     "metadata": {},
     "output_type": "execute_result"
    }
   ],
   "source": [
    "# question 9\n",
    "string = [\"divyasathish\",'radharavi','jahnavi','sudha','rajesh']\n",
    "string.sort(key=lambda x: len(x))\n",
    "string"
   ]
  },
  {
   "cell_type": "code",
   "execution_count": 6,
   "id": "5333ddb8",
   "metadata": {},
   "outputs": [
    {
     "name": "stdout",
     "output_type": "stream",
     "text": [
      "intersection [3, 5]\n"
     ]
    }
   ],
   "source": [
    "#question 10\n",
    "#using filter function list of common elements\n",
    "def intersection(lst1,lst2):\n",
    "    result = list(filter(lambda x : x in lst1,lst2))\n",
    "    print(\"intersection\",result)\n",
    "lst1 = [1, 3, 4, 5, 7]\n",
    "lst2 = [2, 3, 5, 6]\n",
    "intersection(lst1,lst2)"
   ]
  },
  {
   "cell_type": "code",
   "execution_count": 5,
   "id": "55247f23",
   "metadata": {},
   "outputs": [
    {
     "name": "stdout",
     "output_type": "stream",
     "text": [
      "the original list is [[1, 2, 3, 4, 5, 6, 6], [12, 6, 7, 2, 8], [2, 6, 9, 1, 5, 78, 5]]\n",
      "the common elements from N lists : [2, 6]\n"
     ]
    }
   ],
   "source": [
    "# using reduce() function\n",
    "from functools import reduce\n",
    "\n",
    "sub_list = [[1,2,3,4,5,6,6],[12,6,7,2,8],[2,6,9,1,5,78,5]]\n",
    "\n",
    "print(\"the original list is \" + str(sub_list))\n",
    "\n",
    "result = list(reduce(lambda a, b : a & b ,(set(x) for x in sub_list)))\n",
    "\n",
    "print(\"the common elements from N lists :\",str(result))"
   ]
  },
  {
   "cell_type": "code",
   "execution_count": 20,
   "id": "0d23ef21",
   "metadata": {},
   "outputs": [
    {
     "name": "stdout",
     "output_type": "stream",
     "text": [
      "enter a positive number: 0\n",
      "The factorial of 0 is 1\n",
      "enter a positive number: -5\n",
      "Sorry, factorial does not exist for negative numbers \n",
      "enter a positive number: 7\n",
      "The factorial of 7 is 5040\n"
     ]
    }
   ],
   "source": [
    "# question 11\n",
    "# Factorial of a number using recursion\n",
    "\n",
    "def recur_factorial(n):\n",
    "    if n == 1:\n",
    "        return n\n",
    "    else:\n",
    "        return n*recur_factorial(n-1)\n",
    "while True:\n",
    "    num = int(input(\"enter a positive number: \"))\n",
    "    if num < 0:\n",
    "        print(\"Sorry, factorial does not exist for negative numbers \")\n",
    "    elif num == 0:\n",
    "        print(\"The factorial of 0 is 1\")\n",
    "    else:\n",
    "        print(\"The factorial of\", num, \"is\", recur_factorial(num))\n",
    "        break"
   ]
  },
  {
   "cell_type": "code",
   "execution_count": 21,
   "id": "ec160f66",
   "metadata": {},
   "outputs": [
    {
     "name": "stdout",
     "output_type": "stream",
     "text": [
      "nterms: 20\n",
      "fibonacci series:\n",
      "0\n",
      "1\n",
      "1\n",
      "2\n",
      "3\n",
      "5\n",
      "8\n",
      "13\n",
      "21\n",
      "34\n",
      "55\n",
      "89\n",
      "144\n",
      "233\n",
      "377\n",
      "610\n",
      "987\n",
      "1597\n",
      "2584\n",
      "4181\n"
     ]
    }
   ],
   "source": [
    "# question 12\n",
    "#generating fibonacci series using recursion\n",
    "def recursive_fibb(n):\n",
    "    if (n <= 1):\n",
    "        return n\n",
    "    else:\n",
    "        return (recursive_fibb(n-1) + recursive_fibb(n-2))\n",
    "num = int(input('nterms: '))\n",
    "print(\"fibonacci series:\")\n",
    "for i in range(num):\n",
    "    print(recursive_fibb(i))"
   ]
  },
  {
   "cell_type": "code",
   "execution_count": 2,
   "id": "f1bdb209",
   "metadata": {},
   "outputs": [
    {
     "data": {
      "text/plain": [
       "27"
      ]
     },
     "execution_count": 2,
     "metadata": {},
     "output_type": "execute_result"
    }
   ],
   "source": [
    "# question 13\n",
    "# recursive function to determine sum of the list l\n",
    "def get_sum(l):\n",
    "    if len(l) == 0:\n",
    "        return 0\n",
    "    else:\n",
    "        return (l[0] + get_sum(l[1:]))\n",
    "get_sum([2,3,4,5,6,7])\n",
    "    "
   ]
  },
  {
   "cell_type": "code",
   "execution_count": 10,
   "id": "2e258e6c",
   "metadata": {},
   "outputs": [
    {
     "name": "stdout",
     "output_type": "stream",
     "text": [
      "Enter string:w\n",
      "String is a palindrome!\n",
      "Enter string:dad\n",
      "String is a palindrome!\n",
      "Enter string:welcome\n",
      "String isn't a palindrome!\n"
     ]
    }
   ],
   "source": [
    "# question 14\n",
    "def is_palindrome(s):\n",
    "    if len(s) <= 1:\n",
    "        return True\n",
    "    else:\n",
    "        if s[0] == s[-1]:\n",
    "            return is_palindrome(s[1:-1])\n",
    "        else:\n",
    "            return False\n",
    "while True:\n",
    "    a=str(input(\"Enter string:\"))\n",
    "    if(is_palindrome(a)==True):\n",
    "        print(\"String is a palindrome!\")\n",
    "    else:\n",
    "        print(\"String isn't a palindrome!\")\n",
    "        break"
   ]
  },
  {
   "cell_type": "code",
   "execution_count": 16,
   "id": "55b9e3b4",
   "metadata": {},
   "outputs": [
    {
     "name": "stdout",
     "output_type": "stream",
     "text": [
      "Enter first number:3\n",
      "Enter second number:5\n",
      "GCD is: \n",
      "1\n"
     ]
    }
   ],
   "source": [
    "# question 15\n",
    "# to find GCD of two numbers using recursive function\n",
    "def gcd(a,b):\n",
    "    if(b==0):\n",
    "        return a\n",
    "    else:\n",
    "        return gcd(b,a%b)\n",
    "a=int(input(\"Enter first number:\"))\n",
    "b=int(input(\"Enter second number:\"))\n",
    "GCD=gcd(a,b)\n",
    "print(\"GCD is: \")\n",
    "print(GCD)"
   ]
  },
  {
   "cell_type": "code",
   "execution_count": 14,
   "id": "ed36a81f",
   "metadata": {},
   "outputs": [
    {
     "data": {
      "text/plain": [
       "3"
      ]
     },
     "execution_count": 14,
     "metadata": {},
     "output_type": "execute_result"
    }
   ],
   "source": [
    "3%5\n"
   ]
  },
  {
   "cell_type": "code",
   "execution_count": 15,
   "id": "1b6438f7",
   "metadata": {},
   "outputs": [
    {
     "data": {
      "text/plain": [
       "2"
      ]
     },
     "execution_count": 15,
     "metadata": {},
     "output_type": "execute_result"
    }
   ],
   "source": [
    "5%3"
   ]
  },
  {
   "cell_type": "code",
   "execution_count": 17,
   "id": "e923c8db",
   "metadata": {},
   "outputs": [
    {
     "data": {
      "text/plain": [
       "1"
      ]
     },
     "execution_count": 17,
     "metadata": {},
     "output_type": "execute_result"
    }
   ],
   "source": [
    "3%2"
   ]
  },
  {
   "cell_type": "code",
   "execution_count": 18,
   "id": "70f2e157",
   "metadata": {},
   "outputs": [
    {
     "data": {
      "text/plain": [
       "0"
      ]
     },
     "execution_count": 18,
     "metadata": {},
     "output_type": "execute_result"
    }
   ],
   "source": [
    "2%1"
   ]
  },
  {
   "cell_type": "code",
   "execution_count": null,
   "id": "45828eea",
   "metadata": {},
   "outputs": [],
   "source": [
    "# 1%0 if b is 1 then return 0 as in above code"
   ]
  }
 ],
 "metadata": {
  "kernelspec": {
   "display_name": "Python 3 (ipykernel)",
   "language": "python",
   "name": "python3"
  },
  "language_info": {
   "codemirror_mode": {
    "name": "ipython",
    "version": 3
   },
   "file_extension": ".py",
   "mimetype": "text/x-python",
   "name": "python",
   "nbconvert_exporter": "python",
   "pygments_lexer": "ipython3",
   "version": "3.9.13"
  }
 },
 "nbformat": 4,
 "nbformat_minor": 5
}
